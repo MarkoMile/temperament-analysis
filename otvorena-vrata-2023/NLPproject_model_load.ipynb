{
 "cells": [
  {
   "cell_type": "code",
   "execution_count": 129,
   "metadata": {},
   "outputs": [],
   "source": [
    "import tensorflow as tf\n",
    "import tldextract\n",
    "import unicodedata\n",
    "import re\n",
    "import spacy\n",
    "import tkinter\n",
    "import customtkinter\n",
    "\n",
    "import os\n",
    "os.environ[\"TOKENIZERS_PARALLELISM\"] = \"true\"\n",
    "\n",
    "nlp = spacy.load('en_core_web_md')\n",
    "\n",
    "STOP_WORDS = nlp.Defaults.stop_words\n"
   ]
  },
  {
   "cell_type": "code",
   "execution_count": 130,
   "metadata": {},
   "outputs": [],
   "source": [
    "# System settings\n",
    "customtkinter.set_appearance_mode(\"System\")\n",
    "customtkinter.set_default_color_theme(\"blue\")\n",
    "\n",
    "# App frame\n",
    "app = customtkinter.CTk();\n",
    "app.geometry(\"720x480\")"
   ]
  },
  {
   "cell_type": "code",
   "execution_count": 117,
   "metadata": {},
   "outputs": [],
   "source": [
    "input_text = \"'You know your're a ESTP when your're cooler than the other side of the pillow|||HAHA!! I actually said those exact same words when I won a skateboard contest years ago|||i get about 6-7 average|||I fully agree, of course we think highly of ourselves but I doubt any of us believe the world revolves around us|||Skateboard, videos games, Im at the gym every other day, going to the mall to blow money and pickup girls|||If I cannot have fun on the job, then I will go work somewhere. One thihng I hate the most about jobs is when you have ti wear a uniform.|||Do you feel that you have to win at everything?  How do you usually react when you lose or dont accomplish something?   Recently I've been competing with myself(how many pushups I can do or...|||I cant speak for the rest my people, but I usually we put most of our time and effort in accomplishing something. We deal with whatever is in front os us at the moment|||I skim through most of the stuff people type here because its too long|||I have no probem making an ass out of mysef just to make people laugh  My favorite line from your video  I used to think that staying home for hours playing video games listening to music was...|||Eventually we will get over it, but we will think of you differently(atleast I know I would)|||A shooting range with moving targets is always fun|||You make a good point, I guess I got excited for the fact that I ran into them after all these years, I was hoping not to lose contact with them again|||As long as fun and excitement is shared between the two then it could work  but women can be mean and catty towards each other for no reason, MEEOOOOWWWWW|||This is something I've been thinking about for the past week and Im curious of my fellow estp's views on my concern.  Well lately I've been invited to group gatherings and we would all go to each...|||^^ LOL ^^  Fizz is my new favorite member on this board|||hell yeah man, I could never talk to people about my relationships regardless if theyre good or bad. Why because its none of their damn buisness. I believe that whatever goes on between two people...|||Worst Job - Fast food resturant  Best Job - Commission drawing  Dream Job - racer|||thanks  Im single, therefore, more money in my pocket, less money spent  *self high five*|||When you see the humor in everything around you|||What's on my mind as I shower? that's simple  My balls smell like sweat & baking soda|||I do believe in something that maybe could be considered religious  for example: I believe in karma|||c'mon people, dont let a good thread go off subject|||I want to dive right in|||Very true, its best that art is for making money on the side and not your primary income|||I never really understood religion as, especially christianity, believing in the holy spirit sounds weird to me. Plus, people do things that goes against the bible on a daiy basis. Its ridiculous ...|||I enjoy pencil drawing, thats the closests I can get to you lol|||I do not drink aclcohol  Ive never smoked weed nor cigaretts, as a matter of fact Ive never done anything drug related  I hate clubs with a passion, Ive never been to a bar/pub  I get really...|||Im thinking either ESFP or ISFP  the extrovert & introvert aspects will need more clarification|||My goodness, its damn near creepy how us estp's think alike.  Theres not a single thing njchick said that I could disagree with. Whenever we are under stress or worried about something bothering us,...|||I cant see myself getting married because of the law that comes along with the territiory  ex: calling the spouse to check in, dealing with the same person's Bs till death do us part, in-laws|||Out of all the girls Ive ever been with, besides the E & I i have no idea what type they are :sad:|||This reminds me of the time when some church minister tried signing me up for some group event at a local church, I told the guy to his face thanks for the offer, but im not big on religion then...|||amen to that|||same here. Im not going to waste my precious time trying to convince somebody who is reluctant to listen|||oopsy..  please dont release that boxer in your avatar to attack me:unsure:|||If thats something you want to study abroad then go for it. any job career is fine as long as it keeps you sane|||Exactly  one thing that takes my mind off of anything is an adrenaline rush, wether its car racing or rollercoasters|||Whats the opposite of depression? happiness  Whenever you do something your passionate about, how do you feel at the moment? Happy|||I just bought my girl a gag ball & some nipple clamps. Now im waiting for that UPS shipment|||This applies to me  about 2 days ago, one of my co-workers said I would do great improv  I can be blunt & straight-forward at times whenever somebody wants my opinon|||I try doing something that'll take my mind off of it. Mainly some of my passions|||1.  Are ESTPs generally secretive?Im pretty private of a person, even my closest friends do not know whole alot about me deeply. Of ocurse they all know my likes/dislikes, but nothing intimate.  ...|||Yeah, I have tons of family members & a couple ex-friends like this awsell. Constantly complaing about their jobs & the economy. Gossiping and never doing anything fun or adventurous. Being around...|||this is very true. It all depends on the vibe I get from the individual or individuals|||Im just gonna continue being awesome :cool:|||This is me hanging out with my neighbors kids, I was reluctant to take this photo because I hate jedis :angry: http://www.danzfamily.com/archives/blogphotos/07/776-kenobi-vader-pooh.jpg|||well, try looking up famous estp celebrities|||well in that case, go to youtube|||Some of my best relatonships have happened when the girl made the first move. I fully agree with manhands that being a challenge & playing hard to get is a waste of time. The shyness factor can...'\"\n",
    "formatted_text=input_text"
   ]
  },
  {
   "cell_type": "markdown",
   "metadata": {},
   "source": [
    "### Formatiranje"
   ]
  },
  {
   "cell_type": "code",
   "execution_count": 118,
   "metadata": {},
   "outputs": [],
   "source": [
    "URL_REGEX = r\"\"\"(?i)\\b((?:[a-z][\\w-]+:(?:/{1,3}|[a-z0-9%])|www\\d{0,3}[.]|[a-z0-9.\\-]+[.][a-z]{2,4}/)(?:[^\\s()<>]+|\\(([^\\s()<>]+|(\\([^\\s()<>]+\\)))*\\))+(?:\\(([^\\s()<>]+|(\\([^\\s()<>]+\\)))*\\)|[^\\s`!()\\[\\]{};:'\".,<>?«»“”‘’]))\"\"\"\n",
    "DOMAIN_REGEX = \"^(?:https?:\\/\\/)?(?:[^@\\/\\n]+@)?(?:www\\.)?([^:\\/?\\n]+)\"\n",
    "COMMENT_REGEX = r\"\\[.*?\\]\"\n",
    "ELLIPSIS_REGEX = r\"^(\\ *\\.{3}\\ *)|(\\ *\\.{3}\\ *)$\"\n",
    "\n",
    "\n",
    "def urlReplace(stringToReplace):\n",
    "\tdomain = tldextract.extract(stringToReplace.group())\n",
    "\treturn domain.domain + '.' + domain.suffix"
   ]
  },
  {
   "cell_type": "markdown",
   "metadata": {},
   "source": [
    "<b>Funkcije za formatiranje</b>"
   ]
  },
  {
   "cell_type": "code",
   "execution_count": 119,
   "metadata": {},
   "outputs": [],
   "source": [
    "def containsOnlyUrlsOrNumbers(post):\n",
    "\tsplits = post.split()\n",
    "\tfor str in splits:\n",
    "\t\tif (not re.search(URL_REGEX, str) and not re.search('^\\d+$', str) and not re.search('^\\.\\.\\.+$', str)):\n",
    "\t\t\treturn 1\n",
    "\treturn 0\n",
    "\n",
    "def removeEllipsis(post):\n",
    "\treturn re.sub(ELLIPSIS_REGEX, '', post)\n",
    "\n",
    "def removeWhitespace(post):\n",
    "\tpost = \" \".join(post.split())\n",
    "\treturn post\n",
    "\n",
    "def removeAccentedChars(post):\n",
    "\tpost = unicodedata.normalize('NFKD', post).encode(\n",
    "\t\t'ascii', 'ignore').decode('utf-8', 'ignore')\n",
    "\treturn post\n",
    "\n",
    "def toLower(post):\n",
    "\tpost = post.lower()\n",
    "\treturn post\n",
    "\n",
    "def removeStopWords(post):\n",
    "\tpost = \" \".join([t for t in post.split() if t not in STOP_WORDS])\n",
    "\treturn post\n",
    "\n",
    "def removeSpecialChars(post):  # ALSO REMOVES PUNCTUATION\n",
    "\tpost = re.sub('[^A-Z a-z 0-9-]+', '', post)\n",
    "\treturn post\n",
    "\n",
    "def removeAlphaNumeric(post):\n",
    "  alphaNumRegex = r\"\\b([A-z]+[0-9]+[A-z0-9]*|[0-9]+[A-z]+[A-z0-9]*)\\b\"\n",
    "  post = re.sub(alphaNumRegex, '', post)\n",
    "  return post\n",
    "\n",
    "def removeNumbers(post):\n",
    "  numberRegex = r\"[0-9]+\"\n",
    "  floatRegex = r\"([1-9][0-9]*[eE][1-9][0-9]*|(([1-9][0-9]*\\.)|(\\.[0-9]+))([0-9]*)?([eE][\\-\\+]?[1-9][0-9]*)?)\"\n",
    "  post = re.sub(floatRegex, '', post)\n",
    "  post = re.sub(numberRegex, '', post)\n",
    "  return post\n",
    "\n",
    "def shortenRepeatingChars(post):\n",
    "  # finds character groups of more than 3 consecutive chars\n",
    "  repeatingCharRegex = r\"(.)\\1{3,}\"\n",
    "  post = re.sub(repeatingCharRegex, r\"\\1\\1\\1\", post)\n",
    "  return post\n",
    "\n",
    "def removeSingleChars(post):  # removes free single chars EXCEPT I or i\n",
    "  singleCharRegex = r\"(^| )[^Ii](( )[^Ii])*( |$)\"\n",
    "  post = re.sub(singleCharRegex, '', post)\n",
    "  return post"
   ]
  },
  {
   "cell_type": "markdown",
   "metadata": {},
   "source": [
    "<b>Formatiranje unetog stringa</b>"
   ]
  },
  {
   "cell_type": "code",
   "execution_count": 120,
   "metadata": {},
   "outputs": [],
   "source": [
    "formatted_text = removeWhitespace(formatted_text)\n",
    "formatted_text = removeEllipsis(formatted_text)\n",
    "formatted_text = removeAccentedChars(formatted_text)\n",
    "formatted_text = re.sub(URL_REGEX, urlReplace, formatted_text)\n",
    "formatted_text = removeSpecialChars(formatted_text)\n",
    "formatted_text = removeStopWords(formatted_text)\n",
    "formatted_text = removeAlphaNumeric(formatted_text)\n",
    "formatted_text = removeNumbers(formatted_text)\n",
    "formatted_text = toLower(formatted_text)\n",
    "formatted_text = shortenRepeatingChars(formatted_text)\n",
    "formatted_text = removeSingleChars(formatted_text)\n",
    "formatted_text = removeWhitespace(formatted_text)"
   ]
  },
  {
   "cell_type": "markdown",
   "metadata": {},
   "source": [
    "<b>Pretvaranje u Leme</b>"
   ]
  },
  {
   "cell_type": "code",
   "execution_count": 121,
   "metadata": {},
   "outputs": [],
   "source": [
    "#do the nlp tokenization with spaCy\n",
    "def convertToLemmas(post):\n",
    "  doc = nlp(post)\n",
    "  lemmaList = []\n",
    "  for token in doc:\n",
    "    lemma = str(token.lemma_)\n",
    "    if lemma == '-PRON-' or lemma == 'be':\n",
    "      lemma = token.text\n",
    "    lemmaList.append(lemma)\n",
    "  new_post = (\" \".join(lemmaList))\n",
    "  return new_post\n",
    "\n",
    "formatted_text = convertToLemmas(formatted_text)"
   ]
  },
  {
   "cell_type": "markdown",
   "metadata": {},
   "source": [
    "### nospacy ###"
   ]
  },
  {
   "cell_type": "code",
   "execution_count": 122,
   "metadata": {},
   "outputs": [],
   "source": [
    "sequence_length = 1703\n",
    "max_features = 2000\n",
    "oov_token = '<UNK>'\n",
    "pad_type = 'post'\n",
    "trunc_type = 'post'\n",
    "\n",
    "tokenizer = tf.keras.preprocessing.text.Tokenizer(num_words=max_features, oov_token=oov_token)\n",
    "tokenizer.fit_on_texts([formatted_text])\n",
    "word_index= tokenizer.word_index\n",
    "vectorList = tokenizer.texts_to_sequences([formatted_text])\n",
    "vectorList = tf.keras.utils.pad_sequences(vectorList, padding=pad_type, truncating=trunc_type, maxlen=sequence_length,dtype='int32')"
   ]
  },
  {
   "cell_type": "code",
   "execution_count": 123,
   "metadata": {},
   "outputs": [],
   "source": [
    "model = tf.keras.models.load_model('saved_models/fullSet_nospacy')"
   ]
  },
  {
   "cell_type": "code",
   "execution_count": 124,
   "metadata": {},
   "outputs": [
    {
     "name": "stdout",
     "output_type": "stream",
     "text": [
      "1/1 [==============================] - 0s 298ms/step\n"
     ]
    }
   ],
   "source": [
    "predict = model.predict(vectorList)"
   ]
  },
  {
   "cell_type": "code",
   "execution_count": 125,
   "metadata": {},
   "outputs": [
    {
     "data": {
      "text/plain": [
       "array([[0.41512108, 0.37177613, 0.12083121, 0.09227163]], dtype=float32)"
      ]
     },
     "execution_count": 125,
     "metadata": {},
     "output_type": "execute_result"
    }
   ],
   "source": [
    "predict"
   ]
  }
 ],
 "metadata": {
  "kernelspec": {
   "display_name": "Python 3.10.7 64-bit",
   "language": "python",
   "name": "python3"
  },
  "language_info": {
   "codemirror_mode": {
    "name": "ipython",
    "version": 3
   },
   "file_extension": ".py",
   "mimetype": "text/x-python",
   "name": "python",
   "nbconvert_exporter": "python",
   "pygments_lexer": "ipython3",
   "version": "3.10.7"
  },
  "orig_nbformat": 4,
  "vscode": {
   "interpreter": {
    "hash": "e7370f93d1d0cde622a1f8e1c04877d8463912d04d973331ad4851f04de6915a"
   }
  }
 },
 "nbformat": 4,
 "nbformat_minor": 2
}
